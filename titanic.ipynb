{
 "cells": [
  {
   "cell_type": "markdown",
   "metadata": {},
   "source": [
    "import proper packages"
   ]
  },
  {
   "cell_type": "code",
   "execution_count": 11,
   "metadata": {
    "scrolled": true
   },
   "outputs": [],
   "source": [
    "import pandas as pd\n",
    "import matplotlib.pyplot as plt\n",
    "import seaborn as sns\n",
    "import numpy as np\n",
    "\n",
    "import warnings\n",
    "warnings.filterwarnings('ignore')"
   ]
  },
  {
   "cell_type": "markdown",
   "metadata": {},
   "source": [
    "EXPLORATION\n",
    "open the train and the test datasets, gather them into an all_data_set and explore values"
   ]
  },
  {
   "cell_type": "code",
   "execution_count": 12,
   "metadata": {
    "scrolled": true
   },
   "outputs": [
    {
     "name": "stdout",
     "output_type": "stream",
     "text": [
      "(891, 12)\n",
      "(418, 11)\n"
     ]
    }
   ],
   "source": [
    "train = pd.read_csv(r'C:\\Users\\jeanm\\Anaconda3\\envs\\test\\books\\titanic\\train.csv', delimiter=',')\n",
    "print(train.shape)\n",
    "test=pd.read_csv(r'C:\\Users\\jeanm\\Anaconda3\\envs\\test\\books\\titanic\\test.csv', delimiter=',')\n",
    "print(test.shape)"
   ]
  },
  {
   "cell_type": "markdown",
   "metadata": {},
   "source": [
    "concatenate the 2 datasets into one for data exploration and feature engineering"
   ]
  },
  {
   "cell_type": "code",
   "execution_count": 13,
   "metadata": {},
   "outputs": [
    {
     "name": "stdout",
     "output_type": "stream",
     "text": [
      "(1309, 12)\n"
     ]
    }
   ],
   "source": [
    "train_all=pd.concat([train, test],sort=True).reset_index(drop=True)\n",
    "print(train_all.shape)"
   ]
  },
  {
   "cell_type": "markdown",
   "metadata": {},
   "source": [
    "list of the column names of train dataset"
   ]
  },
  {
   "cell_type": "code",
   "execution_count": 14,
   "metadata": {
    "scrolled": false
   },
   "outputs": [
    {
     "data": {
      "text/plain": [
       "Index(['Age', 'Cabin', 'Embarked', 'Fare', 'Name', 'Parch', 'PassengerId',\n",
       "       'Pclass', 'Sex', 'SibSp', 'Survived', 'Ticket'],\n",
       "      dtype='object')"
      ]
     },
     "execution_count": 14,
     "metadata": {},
     "output_type": "execute_result"
    }
   ],
   "source": [
    "train_all.columns"
   ]
  },
  {
   "cell_type": "markdown",
   "metadata": {},
   "source": [
    "analyse of each feature of the dataset"
   ]
  },
  {
   "cell_type": "code",
   "execution_count": 15,
   "metadata": {
    "scrolled": true
   },
   "outputs": [
    {
     "data": {
      "text/plain": [
       "Age             263\n",
       "Cabin          1014\n",
       "Embarked          2\n",
       "Fare              1\n",
       "Name              0\n",
       "Parch             0\n",
       "PassengerId       0\n",
       "Pclass            0\n",
       "Sex               0\n",
       "SibSp             0\n",
       "Survived        418\n",
       "Ticket            0\n",
       "dtype: int64"
      ]
     },
     "execution_count": 15,
     "metadata": {},
     "output_type": "execute_result"
    }
   ],
   "source": [
    "train_all.isnull().sum()"
   ]
  },
  {
   "cell_type": "markdown",
   "metadata": {},
   "source": [
    "263 ages missing, 1014 cabins missing, 2 embarked missing, 1 fare missing, 418 survived missing (to be predicted ;))"
   ]
  },
  {
   "cell_type": "code",
   "execution_count": 16,
   "metadata": {
    "scrolled": false
   },
   "outputs": [
    {
     "data": {
      "text/plain": [
       "0.0    549\n",
       "1.0    342\n",
       "Name: Survived, dtype: int64"
      ]
     },
     "execution_count": 16,
     "metadata": {},
     "output_type": "execute_result"
    }
   ],
   "source": [
    "train_all['Survived']=train_all['Survived'].astype('category')\n",
    "train_all.Survived.value_counts()"
   ]
  },
  {
   "cell_type": "markdown",
   "metadata": {},
   "source": [
    "549 died, 342 survived"
   ]
  },
  {
   "cell_type": "code",
   "execution_count": 17,
   "metadata": {
    "scrolled": false
   },
   "outputs": [
    {
     "data": {
      "text/plain": [
       "male      843\n",
       "female    466\n",
       "Name: Sex, dtype: int64"
      ]
     },
     "execution_count": 17,
     "metadata": {},
     "output_type": "execute_result"
    }
   ],
   "source": [
    "train_all['Sex']=train_all['Sex'].astype('category')\n",
    "train_all.Sex.value_counts()"
   ]
  },
  {
   "cell_type": "markdown",
   "metadata": {},
   "source": [
    "466 female and 843 male on the boat in the dataset"
   ]
  },
  {
   "cell_type": "code",
   "execution_count": 18,
   "metadata": {
    "scrolled": true
   },
   "outputs": [
    {
     "data": {
      "text/plain": [
       "2    277\n",
       "1    323\n",
       "3    709\n",
       "Name: Pclass, dtype: int64"
      ]
     },
     "execution_count": 18,
     "metadata": {},
     "output_type": "execute_result"
    }
   ],
   "source": [
    "train_all['Pclass']=train_all['Pclass'].astype('category')\n",
    "train_all.Pclass.value_counts().sort_values()"
   ]
  },
  {
   "cell_type": "markdown",
   "metadata": {},
   "source": [
    "3 different classed: 323 in 1st class, 277 in 2nd class and 709 in 3rd class"
   ]
  },
  {
   "cell_type": "code",
   "execution_count": 19,
   "metadata": {
    "scrolled": false
   },
   "outputs": [
    {
     "name": "stdout",
     "output_type": "stream",
     "text": [
      "29.9\n",
      "28.0\n",
      "263\n"
     ]
    },
    {
     "data": {
      "image/png": "[encoded data removed]",
      "text/plain": [
       "<Figure size 432x288 with 1 Axes>"
      ]
     },
     "metadata": {
      "needs_background": "light"
     },
     "output_type": "display_data"
    }
   ],
   "source": [
    "train_all['Age']=train_all['Age'].astype('float')\n",
    "plt.figure(1)\n",
    "train_all['Age'].hist(bins=20)\n",
    "plt.xlabel('age of passengers (years)')\n",
    "plt.show\n",
    "print(round(train_all['Age'].mean(),1))\n",
    "print(round(train_all['Age'].median(),1))\n",
    "print(train_all['Age'].isnull().sum())"
   ]
  },
  {
   "cell_type": "markdown",
   "metadata": {},
   "source": [
    "mean age is 30 years old. It goes from 0 (babies x40) to more than 70 years old (olderies). \n",
    "there are 263 people where we are missing the age."
   ]
  },
  {
   "cell_type": "code",
   "execution_count": 20,
   "metadata": {
    "scrolled": true
   },
   "outputs": [
    {
     "name": "stdout",
     "output_type": "stream",
     "text": [
      "0.5\n",
      "       Age  Cabin  Embarked  Fare  Name  Parch  PassengerId  Pclass  Sex  \\\n",
      "SibSp                                                                      \n",
      "0      685    171       889   890   891    891          891     891  891   \n",
      "1      280    110       319   319   319    319          319     319  319   \n",
      "2       36     10        42    42    42     42           42      42   42   \n",
      "3       16      4        20    20    20     20           20      20   20   \n",
      "4       22      0        22    22    22     22           22      22   22   \n",
      "5        6      0         6     6     6      6            6       6    6   \n",
      "8        1      0         9     9     9      9            9       9    9   \n",
      "\n",
      "       Survived  Ticket  \n",
      "SibSp                    \n",
      "0           608     891  \n",
      "1           209     319  \n",
      "2            28      42  \n",
      "3            16      20  \n",
      "4            18      22  \n",
      "5             5       6  \n",
      "8             7       9  \n",
      "0\n"
     ]
    },
    {
     "data": {
      "image/png": "[encoded data removed]",
      "text/plain": [
       "<Figure size 432x288 with 1 Axes>"
      ]
     },
     "metadata": {
      "needs_background": "light"
     },
     "output_type": "display_data"
    }
   ],
   "source": [
    "plt.figure(2)\n",
    "train_all['SibSp'].hist(bins=20)\n",
    "plt.xlabel('# number of siblings or spouses')\n",
    "plt.show\n",
    "print(round(train_all['SibSp'].mean(),1))\n",
    "print(train_all.groupby(by='SibSp').count())\n",
    "print(train_all['SibSp'].isnull().sum())"
   ]
  },
  {
   "cell_type": "markdown",
   "metadata": {},
   "source": [
    "891 passengers are sole, 319 have 1 spouse/sibling, and the rest are 'adults' families"
   ]
  },
  {
   "cell_type": "code",
   "execution_count": 21,
   "metadata": {
    "scrolled": true
   },
   "outputs": [
    {
     "name": "stdout",
     "output_type": "stream",
     "text": [
      "0.4\n",
      "0\n"
     ]
    },
    {
     "data": {
      "image/png": "[encoded data removed]",
      "text/plain": [
       "<Figure size 432x288 with 1 Axes>"
      ]
     },
     "metadata": {
      "needs_background": "light"
     },
     "output_type": "display_data"
    }
   ],
   "source": [
    "plt.figure(3)\n",
    "train_all['Parch'].hist(bins=20)\n",
    "plt.xlabel('# number of children on the boat')\n",
    "plt.show\n",
    "print(round(train_all['Parch'].mean(),1))\n",
    "train.groupby(by='Parch').count()\n",
    "print(train_all['Parch'].isnull().sum())"
   ]
  },
  {
   "cell_type": "markdown",
   "metadata": {},
   "source": [
    "1000 passengers don't have children, around 200 got one, around 100 got 2"
   ]
  },
  {
   "cell_type": "code",
   "execution_count": 22,
   "metadata": {
    "scrolled": true
   },
   "outputs": [
    {
     "name": "stdout",
     "output_type": "stream",
     "text": [
      "1014\n"
     ]
    },
    {
     "data": {
      "text/plain": [
       "Pclass\n",
       "1    256\n",
       "2     23\n",
       "3     16\n",
       "Name: Cabin, dtype: int64"
      ]
     },
     "execution_count": 22,
     "metadata": {},
     "output_type": "execute_result"
    }
   ],
   "source": [
    "print(train_all['Cabin'].isnull().sum())\n",
    "train_all['Cabin'].isnull().sum()/train_all.shape[0]*100\n",
    "train_all.groupby(by=['Pclass']).count().Cabin"
   ]
  },
  {
   "cell_type": "markdown",
   "metadata": {},
   "source": [
    "there is no cabin information for 1014 passengers (77.5%).  \n",
    "We will not use the cabin info so.  \n",
    "cabin info is for first class passengers: 256 cabins are 1st class, 23 are 2nd class, 16 are 3rd class"
   ]
  },
  {
   "cell_type": "code",
   "execution_count": 23,
   "metadata": {},
   "outputs": [
    {
     "name": "stdout",
     "output_type": "stream",
     "text": [
      "mean ticket fare is 33.3 USD, minimum ticket fare is 0.0 USD, maximum ticket fare is 512.3 USD\n",
      "1\n",
      "Pclass\n",
      "1    87.508992\n",
      "2    21.179196\n",
      "3    13.302889\n",
      "Name: Fare, dtype: float64\n"
     ]
    },
    {
     "data": {
      "image/png": "[encoded data removed]",
      "text/plain": [
       "<Figure size 432x288 with 1 Axes>"
      ]
     },
     "metadata": {
      "needs_background": "light"
     },
     "output_type": "display_data"
    }
   ],
   "source": [
    "plt.figure(4)\n",
    "train_all['Fare'].hist(bins=20)\n",
    "plt.xlabel('Fare in USD')\n",
    "plt.show\n",
    "print(\"mean ticket fare is {0} USD, minimum ticket fare is {1} USD, maximum ticket fare is {2} USD\".format(round(train_all['Fare'].mean(),1), round(train_all['Fare'].min(),1),round(train_all['Fare'].max(),1)))\n",
    "print(train_all['Fare'].isnull().sum())\n",
    "print(train_all.groupby(by='Pclass').Fare.mean())"
   ]
  },
  {
   "cell_type": "markdown",
   "metadata": {},
   "source": [
    "mean fare is 33USD, there is a great disparity of fares, from 0 USD to 512USD (mean fares are: Pclass1=87.5USD, Pclass2=21.2USD, Pclass3=13.3USD)"
   ]
  },
  {
   "cell_type": "code",
   "execution_count": 24,
   "metadata": {},
   "outputs": [
    {
     "name": "stdout",
     "output_type": "stream",
     "text": [
      "2\n"
     ]
    },
    {
     "data": {
      "text/plain": [
       "S    914\n",
       "C    270\n",
       "Q    123\n",
       "Name: Embarked, dtype: int64"
      ]
     },
     "execution_count": 24,
     "metadata": {},
     "output_type": "execute_result"
    }
   ],
   "source": [
    "print(train_all['Embarked'].isnull().sum())\n",
    "train_all.Embarked.value_counts()"
   ]
  },
  {
   "cell_type": "markdown",
   "metadata": {},
   "source": [
    "2 person are missing there embarkment code; there are 3 possible embarking codes: C (Cherbourg), Q (Queenstown) and S (Southampton)  \n",
    "S is the most frequent"
   ]
  },
  {
   "cell_type": "code",
   "execution_count": 25,
   "metadata": {
    "scrolled": true
   },
   "outputs": [
    {
     "data": {
      "text/plain": [
       "0"
      ]
     },
     "execution_count": 25,
     "metadata": {},
     "output_type": "execute_result"
    }
   ],
   "source": [
    "train_all['Ticket'].isnull().sum()"
   ]
  },
  {
   "cell_type": "markdown",
   "metadata": {},
   "source": [
    "CONSOLIDATION OF THE DATA SET"
   ]
  },
  {
   "cell_type": "markdown",
   "metadata": {},
   "source": [
    "first: fill in the missing ages"
   ]
  },
  {
   "cell_type": "code",
   "execution_count": 26,
   "metadata": {
    "scrolled": false
   },
   "outputs": [
    {
     "data": {
      "image/png": "[encoded data removed]",
      "text/plain": [
       "<Figure size 432x288 with 1 Axes>"
      ]
     },
     "metadata": {},
     "output_type": "display_data"
    }
   ],
   "source": [
    "sns.set(style=\"whitegrid\")\n",
    "ax = sns.barplot(x=train_all[\"Sex\"],y=train_all['Age'],hue=train_all['Pclass'])"
   ]
  },
  {
   "cell_type": "code",
   "execution_count": 27,
   "metadata": {
    "scrolled": false
   },
   "outputs": [
    {
     "data": {
      "image/png": "[encoded data removed]",
      "text/plain": [
       "<Figure size 432x288 with 1 Axes>"
      ]
     },
     "metadata": {},
     "output_type": "display_data"
    }
   ],
   "source": [
    "ax = sns.barplot(x=train_all[\"Survived\"],y=train_all['Age'],hue=train_all['Sex'])"
   ]
  },
  {
   "cell_type": "markdown",
   "metadata": {},
   "source": [
    "let's make a routine to fill in the missing age data with the median value from the corresponding Class and Sex category"
   ]
  },
  {
   "cell_type": "code",
   "execution_count": 28,
   "metadata": {
    "scrolled": true
   },
   "outputs": [
    {
     "name": "stdout",
     "output_type": "stream",
     "text": [
      "Sex     Pclass\n",
      "female  1         36.0\n",
      "        2         28.0\n",
      "        3         22.0\n",
      "male    1         42.0\n",
      "        2         29.5\n",
      "        3         25.0\n",
      "Name: Age, dtype: float64\n"
     ]
    }
   ],
   "source": [
    "#compute the mean values and store in a list\n",
    "med_age=train_all.groupby(by=['Sex','Pclass']).median()\n",
    "med_age=med_age['Age']\n",
    "print(med_age)"
   ]
  },
  {
   "cell_type": "code",
   "execution_count": 29,
   "metadata": {},
   "outputs": [
    {
     "name": "stdout",
     "output_type": "stream",
     "text": [
      "263\n",
      "0\n"
     ]
    }
   ],
   "source": [
    "train_all['Age_fill']=np.zeros(train_all.shape[0])\n",
    "for i in range(train_all.shape[0]):\n",
    "    a=0\n",
    "    b=0\n",
    "    c=0\n",
    "    if np.isnan(train_all.loc[i,'Age']):\n",
    "        if train_all.loc[i,'Sex']=='Male':\n",
    "            a =3\n",
    "        else:\n",
    "            a=0\n",
    "        if train_all.loc[i,'Pclass']==1:\n",
    "            b=0\n",
    "        elif train_all.loc[i,'Pclass']==2:\n",
    "            b=1\n",
    "        else:\n",
    "            b=2\n",
    "        c=a+b\n",
    "        train_all.loc[i,'Age_fill']=med_age[c]\n",
    "    else:\n",
    "        train_all.loc[i,'Age_fill']=train_all.loc[i,'Age']\n",
    "\n",
    "print(train_all['Age'].isnull().sum())\n",
    "print(train_all['Age_fill'].isnull().sum())\n",
    "    \n",
    "            "
   ]
  },
  {
   "cell_type": "code",
   "execution_count": 30,
   "metadata": {
    "scrolled": true
   },
   "outputs": [
    {
     "data": {
      "text/plain": [
       "Age             263\n",
       "Cabin          1014\n",
       "Embarked          2\n",
       "Fare              1\n",
       "Name              0\n",
       "Parch             0\n",
       "PassengerId       0\n",
       "Pclass            0\n",
       "Sex               0\n",
       "SibSp             0\n",
       "Survived        418\n",
       "Ticket            0\n",
       "Age_fill          0\n",
       "dtype: int64"
      ]
     },
     "execution_count": 30,
     "metadata": {},
     "output_type": "execute_result"
    }
   ],
   "source": [
    "#getting a summary of the null values\n",
    "train_all.isnull().sum()\n"
   ]
  },
  {
   "cell_type": "markdown",
   "metadata": {},
   "source": [
    "Second: clean the Title column into only 4 groups = Mr, Mrs, Miss, and Master"
   ]
  },
  {
   "cell_type": "code",
   "execution_count": 31,
   "metadata": {
    "scrolled": true
   },
   "outputs": [
    {
     "data": {
      "text/plain": [
       "Mr          757\n",
       "Miss        260\n",
       "Mrs         197\n",
       "Master       61\n",
       "Dr            8\n",
       "Rev           8\n",
       "Col           4\n",
       "Mlle          2\n",
       "Major         2\n",
       "Ms            2\n",
       "Countess      1\n",
       "Dona          1\n",
       "Lady          1\n",
       "Sir           1\n",
       "Jonkheer      1\n",
       "Capt          1\n",
       "Don           1\n",
       "Mme           1\n",
       "Name: Title, dtype: int64"
      ]
     },
     "execution_count": 31,
     "metadata": {},
     "output_type": "execute_result"
    }
   ],
   "source": [
    "train_all['Title']=train_all['Name'].str.extract('([A-Za-z]+)\\.', expand=False)\n",
    "train_all.Title.value_counts()\n"
   ]
  },
  {
   "cell_type": "code",
   "execution_count": 32,
   "metadata": {},
   "outputs": [
    {
     "data": {
      "text/plain": [
       "Mr        757\n",
       "Miss      264\n",
       "Mrs       201\n",
       "Master     87\n",
       "Name: Title, dtype: int64"
      ]
     },
     "execution_count": 32,
     "metadata": {},
     "output_type": "execute_result"
    }
   ],
   "source": [
    "# we replace the titles for gathering into categories\n",
    "train_all.Title=train_all.Title.replace(['Capt','Col','Don','Dr','Jonkheer','Major','Rev','Sir'],'Master')\n",
    "train_all.Title=train_all.Title.replace(['Countess','Dona','Mme','Lady'],'Mrs')\n",
    "train_all.Title=train_all.Title.replace(['Mlle','Ms'],'Miss')\n",
    "train_all.Title.value_counts()"
   ]
  },
  {
   "cell_type": "markdown",
   "metadata": {},
   "source": [
    "Fourth: family size, Mother and Free tickets are considered as new variables too"
   ]
  },
  {
   "cell_type": "code",
   "execution_count": 33,
   "metadata": {},
   "outputs": [],
   "source": [
    "train_all['FamilySize'] = train_all.SibSp + train_all.Parch + 1\n",
    "train_all['Mother'] = np.where((train_all.Title=='Mrs') & (train_all.Parch >0),1,0)\n",
    "train_all['Free'] = np.where(train_all['Fare']==0, 1,0)"
   ]
  },
  {
   "cell_type": "markdown",
   "metadata": {},
   "source": [
    "we create a feature to gather family sizes: 'Alone','Small=<2','Medium=<4', 'large>=5'"
   ]
  },
  {
   "cell_type": "code",
   "execution_count": 34,
   "metadata": {},
   "outputs": [],
   "source": [
    "train_all['Alone']=np.where((train_all.FamilySize==1),1,0)\n",
    "train_all['SmallFamily']=np.where((train_all.FamilySize>1)&(train_all.FamilySize<=2),1,0)\n",
    "train_all['MediumFamily']=np.where((train_all.FamilySize>2)&(train_all.FamilySize<=4),1,0)\n",
    "train_all['LargeFamily']=np.where((train_all.FamilySize>4),1,0)"
   ]
  },
  {
   "cell_type": "markdown",
   "metadata": {},
   "source": [
    "create an age feature by splitting continuous variable AGE into different groups: babies <2, young child<6, adolescent<16, adult<45, old >45"
   ]
  },
  {
   "cell_type": "code",
   "execution_count": 35,
   "metadata": {},
   "outputs": [],
   "source": [
    "train_all['baby']=np.where((train_all.Age_fill<2),1,0)\n",
    "train_all['young_child']=np.where((train_all.Age_fill<6)&(train_all.Age_fill>=2),1,0)\n",
    "train_all['ado']=np.where((train_all.Age_fill<16)&(train_all.Age_fill>=6),1,0)\n",
    "train_all['adult']=np.where((train_all.Age_fill<45)&(train_all.Age_fill>=16),1,0)\n",
    "train_all['old']=np.where((train_all.Age_fill>=45),1,0)"
   ]
  },
  {
   "cell_type": "code",
   "execution_count": 36,
   "metadata": {
    "scrolled": true
   },
   "outputs": [
    {
     "data": {
      "text/plain": [
       "Age              263\n",
       "Cabin           1014\n",
       "Embarked           2\n",
       "Fare               1\n",
       "Name               0\n",
       "Parch              0\n",
       "PassengerId        0\n",
       "Pclass             0\n",
       "Sex                0\n",
       "SibSp              0\n",
       "Survived         418\n",
       "Ticket             0\n",
       "Age_fill           0\n",
       "Title              0\n",
       "FamilySize         0\n",
       "Mother             0\n",
       "Free               0\n",
       "Alone              0\n",
       "SmallFamily        0\n",
       "MediumFamily       0\n",
       "LargeFamily        0\n",
       "baby               0\n",
       "young_child        0\n",
       "ado                0\n",
       "adult              0\n",
       "old                0\n",
       "dtype: int64"
      ]
     },
     "execution_count": 36,
     "metadata": {},
     "output_type": "execute_result"
    }
   ],
   "source": [
    "train_all.isnull().sum()"
   ]
  },
  {
   "cell_type": "markdown",
   "metadata": {},
   "source": [
    "Fifth: we fill the 2 missing embarked by the most represented category = 'S'"
   ]
  },
  {
   "cell_type": "code",
   "execution_count": 37,
   "metadata": {
    "scrolled": true
   },
   "outputs": [
    {
     "data": {
      "text/plain": [
       "Age              263\n",
       "Cabin           1014\n",
       "Embarked           0\n",
       "Fare               0\n",
       "Name               0\n",
       "Parch              0\n",
       "PassengerId        0\n",
       "Pclass             0\n",
       "Sex                0\n",
       "SibSp              0\n",
       "Survived         418\n",
       "Ticket             0\n",
       "Age_fill           0\n",
       "Title              0\n",
       "FamilySize         0\n",
       "Mother             0\n",
       "Free               0\n",
       "Alone              0\n",
       "SmallFamily        0\n",
       "MediumFamily       0\n",
       "LargeFamily        0\n",
       "baby               0\n",
       "young_child        0\n",
       "ado                0\n",
       "adult              0\n",
       "old                0\n",
       "dtype: int64"
      ]
     },
     "execution_count": 37,
     "metadata": {},
     "output_type": "execute_result"
    }
   ],
   "source": [
    "train_all['Embarked']=train_all['Embarked'].fillna('S')\n",
    "train_all['Fare']=train_all['Fare'].fillna(train_all['Fare'].mean(skipna=True))\n",
    "train_all.isnull().sum()"
   ]
  },
  {
   "cell_type": "markdown",
   "metadata": {},
   "source": [
    "create bins for the continuous ticket Fare variable: we create 20 bins"
   ]
  },
  {
   "cell_type": "code",
   "execution_count": 38,
   "metadata": {
    "scrolled": true
   },
   "outputs": [],
   "source": [
    "train_all['Fare_bin'] = pd.qcut(train_all['Fare'], 5)\n",
    "#train_all['Fare_bin'].head(20)"
   ]
  },
  {
   "cell_type": "markdown",
   "metadata": {},
   "source": [
    "how to extract some features from the ticket values ? idea is to count the frequency of tickets for each ticket, this would complete the information from family size for groups which are not families but travelling together"
   ]
  },
  {
   "cell_type": "code",
   "execution_count": 39,
   "metadata": {
    "scrolled": false
   },
   "outputs": [],
   "source": [
    "train_all['Ticket_Frequency'] = train_all.groupby('Ticket')['Ticket'].transform('count')\n",
    "#plt.hist(train_all['Ticket_Frequency'],bins=20)"
   ]
  },
  {
   "cell_type": "markdown",
   "metadata": {},
   "source": [
    "Extract the deck informations from the cabin for those where we have"
   ]
  },
  {
   "cell_type": "code",
   "execution_count": 40,
   "metadata": {},
   "outputs": [
    {
     "data": {
      "text/plain": [
       "M    1014\n",
       "C      94\n",
       "B      65\n",
       "D      46\n",
       "E      41\n",
       "A      22\n",
       "F      21\n",
       "G       5\n",
       "T       1\n",
       "Name: Deck, dtype: int64"
      ]
     },
     "execution_count": 40,
     "metadata": {},
     "output_type": "execute_result"
    }
   ],
   "source": [
    "train_all['Cabin'].head()\n",
    "train_all['Deck']=np.zeros(train_all.shape[0])\n",
    "for i in range(train_all.shape[0]):\n",
    "    if pd.isnull(train_all.loc[i,'Cabin'])!=True:\n",
    "        train_all.loc[i,'Deck']=train_all.loc[i,'Cabin'][0]\n",
    "    else:\n",
    "        train_all.loc[i,'Deck']='M'\n",
    "            \n",
    "train_all.Deck.value_counts()"
   ]
  },
  {
   "cell_type": "code",
   "execution_count": 41,
   "metadata": {},
   "outputs": [
    {
     "data": {
      "text/plain": [
       "Pclass  Deck\n",
       "1       A        22.0\n",
       "        B        65.0\n",
       "        C        94.0\n",
       "        D        40.0\n",
       "        E        34.0\n",
       "        F         NaN\n",
       "        G         NaN\n",
       "        M        67.0\n",
       "        T         1.0\n",
       "2       A         NaN\n",
       "        B         NaN\n",
       "        C         NaN\n",
       "        D         6.0\n",
       "        E         4.0\n",
       "        F        13.0\n",
       "        G         NaN\n",
       "        M       254.0\n",
       "        T         NaN\n",
       "3       A         NaN\n",
       "        B         NaN\n",
       "        C         NaN\n",
       "        D         NaN\n",
       "        E         3.0\n",
       "        F         8.0\n",
       "        G         5.0\n",
       "        M       693.0\n",
       "        T         NaN\n",
       "Name: Sex, dtype: float64"
      ]
     },
     "execution_count": 41,
     "metadata": {},
     "output_type": "execute_result"
    }
   ],
   "source": [
    "#is there a link between decks and classes? Is there an order of decks?\n",
    "train_all.groupby(by=['Pclass','Deck']).count().Sex"
   ]
  },
  {
   "cell_type": "markdown",
   "metadata": {},
   "source": [
    "First classes are on Deck A/B/C/D/E and \"M\"  \n",
    "Second classes are on Deck D/E/F and \"M\"  \n",
    "Thirs classes are mostly on deck \"M\""
   ]
  },
  {
   "cell_type": "code",
   "execution_count": 42,
   "metadata": {
    "scrolled": false
   },
   "outputs": [
    {
     "data": {
      "text/plain": [
       "Index(['Age', 'Cabin', 'Embarked', 'Fare', 'Name', 'Parch', 'PassengerId',\n",
       "       'Pclass', 'Sex', 'SibSp', 'Survived', 'Ticket', 'Age_fill', 'Title',\n",
       "       'FamilySize', 'Mother', 'Free', 'Alone', 'SmallFamily', 'MediumFamily',\n",
       "       'LargeFamily', 'baby', 'young_child', 'ado', 'adult', 'old', 'Fare_bin',\n",
       "       'Ticket_Frequency', 'Deck'],\n",
       "      dtype='object')"
      ]
     },
     "execution_count": 42,
     "metadata": {},
     "output_type": "execute_result"
    }
   ],
   "source": [
    "train_all.columns"
   ]
  },
  {
   "cell_type": "code",
   "execution_count": 43,
   "metadata": {},
   "outputs": [
    {
     "data": {
      "text/plain": [
       "Age                  float64\n",
       "Cabin                 object\n",
       "Embarked              object\n",
       "Fare                 float64\n",
       "Name                  object\n",
       "Parch                  int64\n",
       "PassengerId            int64\n",
       "Pclass              category\n",
       "Sex                 category\n",
       "SibSp                  int64\n",
       "Survived            category\n",
       "Ticket                object\n",
       "Age_fill             float64\n",
       "Title                 object\n",
       "FamilySize             int64\n",
       "Mother                 int32\n",
       "Free                   int32\n",
       "Alone                  int32\n",
       "SmallFamily            int32\n",
       "MediumFamily           int32\n",
       "LargeFamily            int32\n",
       "baby                   int32\n",
       "young_child            int32\n",
       "ado                    int32\n",
       "adult                  int32\n",
       "old                    int32\n",
       "Fare_bin            category\n",
       "Ticket_Frequency       int64\n",
       "Deck                  object\n",
       "dtype: object"
      ]
     },
     "execution_count": 43,
     "metadata": {},
     "output_type": "execute_result"
    }
   ],
   "source": [
    "train_all.dtypes"
   ]
  },
  {
   "cell_type": "code",
   "execution_count": 44,
   "metadata": {
    "scrolled": true
   },
   "outputs": [
    {
     "name": "stdout",
     "output_type": "stream",
     "text": [
      "(1309, 21)\n"
     ]
    },
    {
     "data": {
      "text/plain": [
       "Index(['Embarked', 'Pclass', 'Sex', 'Survived', 'Age_fill', 'Title',\n",
       "       'FamilySize', 'Mother', 'Free', 'Alone', 'SmallFamily', 'MediumFamily',\n",
       "       'LargeFamily', 'baby', 'young_child', 'ado', 'adult', 'old', 'Fare_bin',\n",
       "       'Ticket_Frequency', 'Deck'],\n",
       "      dtype='object')"
      ]
     },
     "execution_count": 44,
     "metadata": {},
     "output_type": "execute_result"
    }
   ],
   "source": [
    "# we drop the old columns that have been featured into good new ones\n",
    "train_all=train_all.drop(['PassengerId','Age','SibSp','Parch','Ticket','Cabin','Name','Fare'],axis=1)\n",
    "print(train_all.shape)\n",
    "train_all.columns"
   ]
  },
  {
   "cell_type": "code",
   "execution_count": 45,
   "metadata": {},
   "outputs": [
    {
     "data": {
      "text/plain": [
       "Embarked              object\n",
       "Pclass              category\n",
       "Sex                 category\n",
       "Survived            category\n",
       "Age_fill             float64\n",
       "Title                 object\n",
       "FamilySize             int64\n",
       "Mother                 int32\n",
       "Free                   int32\n",
       "Alone                  int32\n",
       "SmallFamily            int32\n",
       "MediumFamily           int32\n",
       "LargeFamily            int32\n",
       "baby                   int32\n",
       "young_child            int32\n",
       "ado                    int32\n",
       "adult                  int32\n",
       "old                    int32\n",
       "Fare_bin            category\n",
       "Ticket_Frequency       int64\n",
       "Deck                  object\n",
       "dtype: object"
      ]
     },
     "execution_count": 45,
     "metadata": {},
     "output_type": "execute_result"
    }
   ],
   "source": [
    "train_all.dtypes"
   ]
  },
  {
   "cell_type": "code",
   "execution_count": 46,
   "metadata": {},
   "outputs": [],
   "source": [
    "# we add counts for Embarked, Pclass, Sex, Title, FamilySize, Fare_bin, Deck\n",
    "for i in ['Embarked', 'Pclass', 'Sex', 'Title','FamilySize', 'Fare_bin','Deck']:\n",
    "    counts = train_all.loc[:,i].value_counts().to_dict()\n",
    "    train_all[''+i+'_counts'] = train_all.loc[:,i].map(counts)"
   ]
  },
  {
   "cell_type": "markdown",
   "metadata": {},
   "source": [
    "we copy survived column into a variable"
   ]
  },
  {
   "cell_type": "code",
   "execution_count": 47,
   "metadata": {},
   "outputs": [
    {
     "data": {
      "text/plain": [
       "(1309,)"
      ]
     },
     "execution_count": 47,
     "metadata": {},
     "output_type": "execute_result"
    }
   ],
   "source": [
    "Survived=train_all['Survived']\n",
    "Survived.shape"
   ]
  },
  {
   "cell_type": "markdown",
   "metadata": {},
   "source": [
    "it is crucial to create dummy variables for all the categorical variables using the pd.get_dummies() function"
   ]
  },
  {
   "cell_type": "code",
   "execution_count": 48,
   "metadata": {},
   "outputs": [
    {
     "data": {
      "text/plain": [
       "Age_fill                        0\n",
       "FamilySize                      0\n",
       "Mother                          0\n",
       "Free                            0\n",
       "Alone                           0\n",
       "SmallFamily                     0\n",
       "MediumFamily                    0\n",
       "LargeFamily                     0\n",
       "baby                            0\n",
       "young_child                     0\n",
       "ado                             0\n",
       "adult                           0\n",
       "old                             0\n",
       "Ticket_Frequency                0\n",
       "Embarked_counts                 0\n",
       "Title_counts                    0\n",
       "FamilySize_counts               0\n",
       "Deck_counts                     0\n",
       "Embarked_C                      0\n",
       "Embarked_Q                      0\n",
       "Embarked_S                      0\n",
       "Pclass_1                        0\n",
       "Pclass_2                        0\n",
       "Pclass_3                        0\n",
       "Sex_female                      0\n",
       "Sex_male                        0\n",
       "Title_Master                    0\n",
       "Title_Miss                      0\n",
       "Title_Mr                        0\n",
       "Title_Mrs                       0\n",
       "Fare_bin_(-0.001, 7.854]        0\n",
       "Fare_bin_(7.854, 10.5]          0\n",
       "Fare_bin_(10.5, 21.679]         0\n",
       "Fare_bin_(21.679, 41.579]       0\n",
       "Fare_bin_(41.579, 512.329]      0\n",
       "Deck_A                          0\n",
       "Deck_B                          0\n",
       "Deck_C                          0\n",
       "Deck_D                          0\n",
       "Deck_E                          0\n",
       "Deck_F                          0\n",
       "Deck_G                          0\n",
       "Deck_M                          0\n",
       "Deck_T                          0\n",
       "Survived                      418\n",
       "dtype: int64"
      ]
     },
     "execution_count": 48,
     "metadata": {},
     "output_type": "execute_result"
    }
   ],
   "source": [
    "train_all=pd.get_dummies(train_all)\n",
    "train_all=train_all.drop(['Survived_0.0','Survived_1.0'],axis=1)\n",
    "train_all=train_all.iloc[:,:-10]\n",
    "train_all['Survived']=Survived\n",
    "train_all.columns\n",
    "train_all.isnull().sum()"
   ]
  },
  {
   "cell_type": "markdown",
   "metadata": {},
   "source": [
    "\n",
    "******\n",
    "Now, let's run some machine learning models on the dataset to predic the survivability"
   ]
  },
  {
   "cell_type": "markdown",
   "metadata": {},
   "source": [
    "as a first step, we are going to split the train data set into a TRAIN and TEST data set to check for the accuracy of the model. I use \"train_test_split\" from sklearn  \n",
    "We can also consider stratifying the train test split with the ratio of survived"
   ]
  },
  {
   "cell_type": "code",
   "execution_count": 49,
   "metadata": {},
   "outputs": [],
   "source": [
    "from sklearn.preprocessing import MinMaxScaler, StandardScaler\n",
    "standard_scaler=StandardScaler()"
   ]
  },
  {
   "cell_type": "code",
   "execution_count": 70,
   "metadata": {},
   "outputs": [
    {
     "name": "stdout",
     "output_type": "stream",
     "text": [
      "(891, 44)\n",
      "(891,)\n",
      "(623, 44) (268, 44) (623,) (268,)\n"
     ]
    }
   ],
   "source": [
    "from sklearn.model_selection import train_test_split\n",
    "train_good=train_all[train_all.Survived.isnull()==False]\n",
    "X=train_good.drop('Survived',axis=1)\n",
    "X_scale=standard_scaler.fit_transform(X)\n",
    "#print(X.columns)\n",
    "print(X.shape)\n",
    "Y=train_good['Survived']\n",
    "print(Y.shape)\n",
    "X_train,X_test,y_train,y_test=train_test_split(X_scale,Y,test_size=0.3,random_state=2019, stratify=X.Embarked_counts)\n",
    "print(X_train.shape, X_test.shape,y_train.shape,y_test.shape)"
   ]
  },
  {
   "cell_type": "markdown",
   "metadata": {},
   "source": [
    "Then, we are training some models on the test dataset"
   ]
  },
  {
   "cell_type": "code",
   "execution_count": 71,
   "metadata": {},
   "outputs": [
    {
     "data": {
      "text/html": [
       "<div>\n",
       "<style scoped>\n",
       "    .dataframe tbody tr th:only-of-type {\n",
       "        vertical-align: middle;\n",
       "    }\n",
       "\n",
       "    .dataframe tbody tr th {\n",
       "        vertical-align: top;\n",
       "    }\n",
       "\n",
       "    .dataframe thead th {\n",
       "        text-align: right;\n",
       "    }\n",
       "</style>\n",
       "<table border=\"1\" class=\"dataframe\">\n",
       "  <thead>\n",
       "    <tr style=\"text-align: right;\">\n",
       "      <th></th>\n",
       "      <th>Model</th>\n",
       "      <th>Accuracy Score</th>\n",
       "    </tr>\n",
       "  </thead>\n",
       "  <tbody>\n",
       "    <tr>\n",
       "      <td>0</td>\n",
       "      <td>GradientBoostingClassifier</td>\n",
       "      <td>0.787313</td>\n",
       "    </tr>\n",
       "    <tr>\n",
       "      <td>0</td>\n",
       "      <td>RandomForestClassifier</td>\n",
       "      <td>0.832090</td>\n",
       "    </tr>\n",
       "    <tr>\n",
       "      <td>0</td>\n",
       "      <td>KNeighborsClassifier</td>\n",
       "      <td>0.791045</td>\n",
       "    </tr>\n",
       "    <tr>\n",
       "      <td>0</td>\n",
       "      <td>NeuralNetwork</td>\n",
       "      <td>0.824627</td>\n",
       "    </tr>\n",
       "  </tbody>\n",
       "</table>\n",
       "</div>"
      ],
      "text/plain": [
       "                        Model  Accuracy Score\n",
       "0  GradientBoostingClassifier        0.787313\n",
       "0      RandomForestClassifier        0.832090\n",
       "0        KNeighborsClassifier        0.791045\n",
       "0               NeuralNetwork        0.824627"
      ]
     },
     "execution_count": 71,
     "metadata": {},
     "output_type": "execute_result"
    }
   ],
   "source": [
    "from sklearn.ensemble import RandomForestClassifier, GradientBoostingClassifier\n",
    "from sklearn.neighbors import KNeighborsClassifier\n",
    "from sklearn.neural_network import MLPClassifier\n",
    "from sklearn.metrics import accuracy_score\n",
    "from sklearn.metrics import roc_curve\n",
    "from sklearn.metrics import auc\n",
    "\n",
    "gb = GradientBoostingClassifier(n_estimators=2500, random_state=2018)\n",
    "rf = RandomForestClassifier(n_estimators=500, max_depth=7,min_samples_split=2,random_state=2)\n",
    "knn = KNeighborsClassifier(n_neighbors=5)\n",
    "nn = MLPClassifier((100,100, 60), early_stopping=False, max_iter=2000, random_state=2)\n",
    "\n",
    "Results = pd.DataFrame({'Model': [],'Accuracy Score': []})\n",
    "\n",
    "gb.fit(X_train, y_train)\n",
    "Y_pred= gb.predict(X_test)\n",
    "res = pd.DataFrame({\"Model\":['GradientBoostingClassifier'],\n",
    "                    \"Accuracy Score\": [accuracy_score(Y_pred,y_test)]})\n",
    "Results = Results.append(res)\n",
    "\n",
    "rf.fit(X_train, y_train)\n",
    "Y_pred= rf.predict(X_test)\n",
    "res = pd.DataFrame({\"Model\":['RandomForestClassifier'],\n",
    "                    \"Accuracy Score\": [accuracy_score(Y_pred,y_test)]})\n",
    "Results = Results.append(res)\n",
    "\n",
    "knn.fit(X_train, y_train)\n",
    "Y_pred= knn.predict(X_test)\n",
    "res = pd.DataFrame({\"Model\":['KNeighborsClassifier'],\n",
    "                    \"Accuracy Score\": [accuracy_score(Y_pred,y_test)]})\n",
    "Results = Results.append(res)\n",
    "\n",
    "nn.fit(X_train, y_train)\n",
    "Y_pred= nn.predict(X_test)\n",
    "res = pd.DataFrame({\"Model\":['NeuralNetwork'],\n",
    "                    \"Accuracy Score\": [accuracy_score(Y_pred,y_test)]})\n",
    "Results = Results.append(res)\n",
    "\n",
    "Results"
   ]
  },
  {
   "cell_type": "markdown",
   "metadata": {},
   "source": [
    "the randomForestClassifier offers the best accuracy score: 0.81\n",
    "Now, we want to apply this prediction to the test data set \n",
    "we will then first have to transform the test data set appropriately in order to feed the best model built;"
   ]
  },
  {
   "cell_type": "code",
   "execution_count": 72,
   "metadata": {
    "scrolled": true
   },
   "outputs": [
    {
     "name": "stdout",
     "output_type": "stream",
     "text": [
      "(418, 44)\n",
      "Age_fill                      0\n",
      "FamilySize                    0\n",
      "Mother                        0\n",
      "Free                          0\n",
      "Alone                         0\n",
      "SmallFamily                   0\n",
      "MediumFamily                  0\n",
      "LargeFamily                   0\n",
      "baby                          0\n",
      "young_child                   0\n",
      "ado                           0\n",
      "adult                         0\n",
      "old                           0\n",
      "Ticket_Frequency              0\n",
      "Embarked_counts               0\n",
      "Title_counts                  0\n",
      "FamilySize_counts             0\n",
      "Deck_counts                   0\n",
      "Embarked_C                    0\n",
      "Embarked_Q                    0\n",
      "Embarked_S                    0\n",
      "Pclass_1                      0\n",
      "Pclass_2                      0\n",
      "Pclass_3                      0\n",
      "Sex_female                    0\n",
      "Sex_male                      0\n",
      "Title_Master                  0\n",
      "Title_Miss                    0\n",
      "Title_Mr                      0\n",
      "Title_Mrs                     0\n",
      "Fare_bin_(-0.001, 7.854]      0\n",
      "Fare_bin_(7.854, 10.5]        0\n",
      "Fare_bin_(10.5, 21.679]       0\n",
      "Fare_bin_(21.679, 41.579]     0\n",
      "Fare_bin_(41.579, 512.329]    0\n",
      "Deck_A                        0\n",
      "Deck_B                        0\n",
      "Deck_C                        0\n",
      "Deck_D                        0\n",
      "Deck_E                        0\n",
      "Deck_F                        0\n",
      "Deck_G                        0\n",
      "Deck_M                        0\n",
      "Deck_T                        0\n",
      "dtype: int64\n",
      "Index(['Age_fill', 'FamilySize', 'Mother', 'Free', 'Alone', 'SmallFamily',\n",
      "       'MediumFamily', 'LargeFamily', 'baby', 'young_child', 'ado', 'adult',\n",
      "       'old', 'Ticket_Frequency', 'Embarked_counts', 'Title_counts',\n",
      "       'FamilySize_counts', 'Deck_counts', 'Embarked_C', 'Embarked_Q',\n",
      "       'Embarked_S', 'Pclass_1', 'Pclass_2', 'Pclass_3', 'Sex_female',\n",
      "       'Sex_male', 'Title_Master', 'Title_Miss', 'Title_Mr', 'Title_Mrs',\n",
      "       'Fare_bin_(-0.001, 7.854]', 'Fare_bin_(7.854, 10.5]',\n",
      "       'Fare_bin_(10.5, 21.679]', 'Fare_bin_(21.679, 41.579]',\n",
      "       'Fare_bin_(41.579, 512.329]', 'Deck_A', 'Deck_B', 'Deck_C', 'Deck_D',\n",
      "       'Deck_E', 'Deck_F', 'Deck_G', 'Deck_M', 'Deck_T'],\n",
      "      dtype='object')\n"
     ]
    }
   ],
   "source": [
    "test_good=train_all[train_all.Survived.isnull()==True]\n",
    "test_good=test_good.drop(['Survived'],axis=1)\n",
    "test_good_scale=standard_scaler.transform(test_good)\n",
    "print(test_good.shape)\n",
    "print(test_good.isnull().sum())\n",
    "print(test_good.columns)"
   ]
  },
  {
   "cell_type": "markdown",
   "metadata": {},
   "source": [
    "Now we can apply the built model on test_good and save it in a csv file"
   ]
  },
  {
   "cell_type": "code",
   "execution_count": 73,
   "metadata": {
    "scrolled": false
   },
   "outputs": [
    {
     "name": "stdout",
     "output_type": "stream",
     "text": [
      "   PassengerId  Survived\n",
      "0          892         0\n",
      "1          893         1\n",
      "2          894         0\n",
      "3          895         0\n",
      "4          896         1\n",
      "done1\n"
     ]
    }
   ],
   "source": [
    "result=pd.DataFrame(np.zeros((test.shape[0],2)),columns=['PassengerId','Survived'])\n",
    "result['Survived']=rf.predict(test_good_scale).astype(int)\n",
    "result['PassengerId']=test['PassengerId']\n",
    "print(result.head(5))\n",
    "result[['PassengerId','Survived']].to_csv(r\"C:\\Users\\jeanm\\Anaconda3\\envs\\test\\books\\titanic\\submissionJM18.csv\",index=False)\n",
    "print(\"done1\")"
   ]
  },
  {
   "cell_type": "code",
   "execution_count": 74,
   "metadata": {
    "scrolled": true
   },
   "outputs": [
    {
     "data": {
      "text/html": [
       "<div>\n",
       "<style scoped>\n",
       "    .dataframe tbody tr th:only-of-type {\n",
       "        vertical-align: middle;\n",
       "    }\n",
       "\n",
       "    .dataframe tbody tr th {\n",
       "        vertical-align: top;\n",
       "    }\n",
       "\n",
       "    .dataframe thead th {\n",
       "        text-align: right;\n",
       "    }\n",
       "</style>\n",
       "<table border=\"1\" class=\"dataframe\">\n",
       "  <thead>\n",
       "    <tr style=\"text-align: right;\">\n",
       "      <th></th>\n",
       "      <th>PassengerId</th>\n",
       "    </tr>\n",
       "    <tr>\n",
       "      <th>Survived</th>\n",
       "      <th></th>\n",
       "    </tr>\n",
       "  </thead>\n",
       "  <tbody>\n",
       "    <tr>\n",
       "      <td>0</td>\n",
       "      <td>263</td>\n",
       "    </tr>\n",
       "    <tr>\n",
       "      <td>1</td>\n",
       "      <td>155</td>\n",
       "    </tr>\n",
       "  </tbody>\n",
       "</table>\n",
       "</div>"
      ],
      "text/plain": [
       "          PassengerId\n",
       "Survived             \n",
       "0                 263\n",
       "1                 155"
      ]
     },
     "execution_count": 74,
     "metadata": {},
     "output_type": "execute_result"
    }
   ],
   "source": [
    "result.groupby('Survived').count()"
   ]
  },
  {
   "cell_type": "markdown",
   "metadata": {},
   "source": [
    "the next step is to try to optimize the random forest classifier"
   ]
  },
  {
   "cell_type": "code",
   "execution_count": 66,
   "metadata": {},
   "outputs": [
    {
     "data": {
      "text/plain": [
       "<function matplotlib.pyplot.show(*args, **kw)>"
      ]
     },
     "execution_count": 66,
     "metadata": {},
     "output_type": "execute_result"
    },
    {
     "data": {
      "image/png": "[encoded data removed]",
      "text/plain": [
       "<Figure size 432x288 with 1 Axes>"
      ]
     },
     "metadata": {},
     "output_type": "display_data"
    }
   ],
   "source": [
    "#depths exploration\n",
    "max_depths = np.linspace(1, 10, 10, endpoint=True)\n",
    "train_results = []\n",
    "test_results = []\n",
    "for max_depth in max_depths:\n",
    "   rf_opt = RandomForestClassifier(n_estimators=500, max_depth=max_depth, n_jobs=-1)\n",
    "   rf_opt.fit(X_train, y_train)\n",
    "   train_pred = rf_opt.predict(X_train)\n",
    "   false_positive_rate, true_positive_rate, thresholds = roc_curve(y_train, train_pred)\n",
    "   roc_auc = auc(false_positive_rate, true_positive_rate)\n",
    "   train_results.append(roc_auc)\n",
    "   y_pred = rf_opt.predict(X_test)\n",
    "   false_positive_rate, true_positive_rate, thresholds = roc_curve(y_test, y_pred)\n",
    "   roc_auc = auc(false_positive_rate, true_positive_rate)\n",
    "   test_results.append(roc_auc)\n",
    "from matplotlib.legend_handler import HandlerLine2D\n",
    "line1, = plt.plot(max_depths, train_results, 'b', label=\"Train AUC\")\n",
    "line2, = plt.plot(max_depths, test_results, 'r', label=\"Test AUC\")\n",
    "plt.legend(handler_map={line1: HandlerLine2D(numpoints=2)})\n",
    "plt.ylabel('AUC score')\n",
    "plt.xlabel('Tree depth')\n",
    "plt.show"
   ]
  },
  {
   "cell_type": "markdown",
   "metadata": {},
   "source": [
    "the max tree depth is around 5"
   ]
  },
  {
   "cell_type": "code",
   "execution_count": 67,
   "metadata": {
    "scrolled": true
   },
   "outputs": [
    {
     "name": "stdout",
     "output_type": "stream",
     "text": [
      "category\n"
     ]
    },
    {
     "data": {
      "image/png": "[encoded data removed]",
      "text/plain": [
       "<Figure size 432x288 with 1 Axes>"
      ]
     },
     "metadata": {},
     "output_type": "display_data"
    }
   ],
   "source": [
    "#n_estimators exploration\n",
    "n_est = np.linspace(400, 1200, 100, endpoint=True,dtype='int')\n",
    "train_results = []\n",
    "test_results = []\n",
    "for n_ests in n_est:\n",
    "   rf_opt = RandomForestClassifier(n_estimators=n_ests,max_depth=7, n_jobs=-1)\n",
    "   rf_opt.fit(X_train, y_train)\n",
    "   train_pred = rf_opt.predict(X_train)\n",
    "   false_positive_rate, true_positive_rate, thresholds = roc_curve(y_train, train_pred)\n",
    "   roc_auc = auc(false_positive_rate, true_positive_rate)\n",
    "   train_results.append(roc_auc)\n",
    "   y_pred = rf_opt.predict(X_test)\n",
    "   false_positive_rate, true_positive_rate, thresholds = roc_curve(y_test, y_pred)\n",
    "   roc_auc = auc(false_positive_rate, true_positive_rate)\n",
    "   test_results.append(roc_auc)\n",
    "from matplotlib.legend_handler import HandlerLine2D\n",
    "line1, = plt.plot(n_est, train_results, 'b', label=\"Train AUC\")\n",
    "line2, = plt.plot(n_est, test_results, 'r', label=\"Test AUC\")\n",
    "plt.legend(handler_map={line1: HandlerLine2D(numpoints=2)})\n",
    "plt.ylabel('AUC score')\n",
    "plt.xlabel('n_estimators')\n",
    "plt.show\n",
    "print(y_train.dtype)"
   ]
  },
  {
   "cell_type": "code",
   "execution_count": 68,
   "metadata": {},
   "outputs": [
    {
     "name": "stdout",
     "output_type": "stream",
     "text": [
      "   PassengerId  Survived\n",
      "0          892         0\n",
      "1          893         0\n",
      "2          894         0\n",
      "3          895         0\n",
      "4          896         1\n",
      "done1\n"
     ]
    }
   ],
   "source": [
    "rf_opt = RandomForestClassifier(n_estimators=510, max_depth=7,min_samples_split=2,random_state=2018)\n",
    "rf_opt.fit(X_train, y_train)\n",
    "result=pd.DataFrame(np.zeros((test.shape[0],2)),columns=['PassengerId','Survived'])\n",
    "result['Survived']=rf_opt.predict(test_good).astype(int)\n",
    "result['PassengerId']=test['PassengerId']\n",
    "print(result.head(5))\n",
    "result[['PassengerId','Survived']].to_csv(r\"C:\\Users\\jeanm\\Anaconda3\\envs\\test\\books\\titanic\\submissionJM17.csv\",index=False)\n",
    "print(\"done1\")"
   ]
  },
  {
   "cell_type": "code",
   "execution_count": 69,
   "metadata": {},
   "outputs": [
    {
     "data": {
      "text/html": [
       "<div>\n",
       "<style scoped>\n",
       "    .dataframe tbody tr th:only-of-type {\n",
       "        vertical-align: middle;\n",
       "    }\n",
       "\n",
       "    .dataframe tbody tr th {\n",
       "        vertical-align: top;\n",
       "    }\n",
       "\n",
       "    .dataframe thead th {\n",
       "        text-align: right;\n",
       "    }\n",
       "</style>\n",
       "<table border=\"1\" class=\"dataframe\">\n",
       "  <thead>\n",
       "    <tr style=\"text-align: right;\">\n",
       "      <th></th>\n",
       "      <th>PassengerId</th>\n",
       "    </tr>\n",
       "    <tr>\n",
       "      <th>Survived</th>\n",
       "      <th></th>\n",
       "    </tr>\n",
       "  </thead>\n",
       "  <tbody>\n",
       "    <tr>\n",
       "      <td>0</td>\n",
       "      <td>264</td>\n",
       "    </tr>\n",
       "    <tr>\n",
       "      <td>1</td>\n",
       "      <td>154</td>\n",
       "    </tr>\n",
       "  </tbody>\n",
       "</table>\n",
       "</div>"
      ],
      "text/plain": [
       "          PassengerId\n",
       "Survived             \n",
       "0                 264\n",
       "1                 154"
      ]
     },
     "execution_count": 69,
     "metadata": {},
     "output_type": "execute_result"
    }
   ],
   "source": [
    "result.groupby('Survived').count()"
   ]
  },
  {
   "cell_type": "markdown",
   "metadata": {},
   "source": [
    "the saved result is submitted to the Kaggle platform"
   ]
  },
  {
   "cell_type": "code",
   "execution_count": 59,
   "metadata": {},
   "outputs": [
    {
     "data": {
      "text/plain": [
       "<matplotlib.axes._subplots.AxesSubplot at 0x2b2c4c63198>"
      ]
     },
     "execution_count": 59,
     "metadata": {},
     "output_type": "execute_result"
    },
    {
     "data": {
      "image/png": "[encoded data removed]",
      "text/plain": [
       "<Figure size 432x288 with 1 Axes>"
      ]
     },
     "metadata": {},
     "output_type": "display_data"
    }
   ],
   "source": [
    "#to perform better, as we clerly see differences between perf on test and perf on anonymous dataset, we have to compare the distribution of main categories between these 2\n",
    "train.Embarked.hist()\n",
    "test.Embarked.hist()"
   ]
  },
  {
   "cell_type": "code",
   "execution_count": null,
   "metadata": {},
   "outputs": [],
   "source": []
  }
 ],
 "metadata": {
  "kernelspec": {
   "display_name": "Python 3",
   "language": "python",
   "name": "python3"
  },
  "language_info": {
   "codemirror_mode": {
    "name": "ipython",
    "version": 3
   },
   "file_extension": ".py",
   "mimetype": "text/x-python",
   "name": "python",
   "nbconvert_exporter": "python",
   "pygments_lexer": "ipython3",
   "version": "3.6.9"
  }
 },
 "nbformat": 4,
 "nbformat_minor": 2
}
